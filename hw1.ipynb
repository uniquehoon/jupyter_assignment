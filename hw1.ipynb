{
 "cells": [
  {
   "cell_type": "code",
   "execution_count": 2,
   "id": "a72f5a49",
   "metadata": {},
   "outputs": [],
   "source": [
    "lovely_loveseat_description = \"Lovely Loveseat. Tufted polyester blend on wood. 32 inches high x 40 inches wide x 30 inches deep. Red or white.\""
   ]
  },
  {
   "cell_type": "code",
   "execution_count": 3,
   "id": "af4ae933",
   "metadata": {},
   "outputs": [],
   "source": [
    "lovely_loveseat_price = 254.00"
   ]
  },
  {
   "cell_type": "code",
   "execution_count": 4,
   "id": "0593292f",
   "metadata": {},
   "outputs": [],
   "source": [
    "stylish_settee_description = \"Stylish Settee. Faux leather on birch. 29.50 inches high x 54.75 inches wide x 28 inches deep. Black.\""
   ]
  },
  {
   "cell_type": "code",
   "execution_count": 5,
   "id": "127c9ad8",
   "metadata": {},
   "outputs": [],
   "source": [
    "stylish_settee_price = 180.50"
   ]
  },
  {
   "cell_type": "code",
   "execution_count": 6,
   "id": "23d3f6ad",
   "metadata": {},
   "outputs": [],
   "source": [
    "luxurious_lamp_description = \"Luxurious Lamp. Glass and iron. 36 inches tall. Brown with cream shade.\""
   ]
  },
  {
   "cell_type": "code",
   "execution_count": 7,
   "id": "0b240fd3",
   "metadata": {},
   "outputs": [],
   "source": [
    "luxurious_lamp_price = 52.15"
   ]
  },
  {
   "cell_type": "code",
   "execution_count": 8,
   "id": "e5d411b3",
   "metadata": {},
   "outputs": [],
   "source": [
    "sales_tax = 0.088"
   ]
  },
  {
   "cell_type": "code",
   "execution_count": 9,
   "id": "c1baa3c7",
   "metadata": {},
   "outputs": [],
   "source": [
    "customer_one_total = 0"
   ]
  },
  {
   "cell_type": "code",
   "execution_count": 10,
   "id": "04774180",
   "metadata": {},
   "outputs": [],
   "source": [
    "customer_one_itemization = \"\""
   ]
  },
  {
   "cell_type": "code",
   "execution_count": 11,
   "id": "0a7dceaf",
   "metadata": {},
   "outputs": [],
   "source": [
    "customer_one_total += lovely_loveseat_price"
   ]
  },
  {
   "cell_type": "code",
   "execution_count": 12,
   "id": "369c7cbf",
   "metadata": {},
   "outputs": [],
   "source": [
    "customer_one_itemization += lovely_loveseat_description"
   ]
  },
  {
   "cell_type": "code",
   "execution_count": 13,
   "id": "0ccf4a04",
   "metadata": {},
   "outputs": [],
   "source": [
    "customer_one_total += luxurious_lamp_price"
   ]
  },
  {
   "cell_type": "code",
   "execution_count": 14,
   "id": "33bc1bef",
   "metadata": {},
   "outputs": [],
   "source": [
    "customer_one_itemization += luxurious_lamp_description"
   ]
  },
  {
   "cell_type": "code",
   "execution_count": 15,
   "id": "bb81964c",
   "metadata": {},
   "outputs": [],
   "source": [
    "customer_one_tax = customer_one_total * sales_tax"
   ]
  },
  {
   "cell_type": "code",
   "execution_count": 16,
   "id": "6133afa4",
   "metadata": {},
   "outputs": [],
   "source": [
    "customer_one_total += customer_one_tax"
   ]
  },
  {
   "cell_type": "code",
   "execution_count": 17,
   "id": "8f942635",
   "metadata": {
    "scrolled": true
   },
   "outputs": [
    {
     "name": "stdout",
     "output_type": "stream",
     "text": [
      "Customer One Items:\n",
      "Lovely Loveseat. Tufted polyester blend on wood. 32 inches high x 40 inches wide x 30 inches deep. Red or white.Luxurious Lamp. Glass and iron. 36 inches tall. Brown with cream shade.\n",
      "Customer One Total:\n",
      "333.09119999999996\n"
     ]
    }
   ],
   "source": [
    "print(\"Customer One Items:\")\n",
    "print(customer_one_itemization)\n",
    "print(\"Customer One Total:\")\n",
    "print(customer_one_total)"
   ]
  }
 ],
 "metadata": {
  "kernelspec": {
   "display_name": "Python 3",
   "language": "python",
   "name": "python3"
  },
  "language_info": {
   "codemirror_mode": {
    "name": "ipython",
    "version": 3
   },
   "file_extension": ".py",
   "mimetype": "text/x-python",
   "name": "python",
   "nbconvert_exporter": "python",
   "pygments_lexer": "ipython3",
   "version": "3.8.8"
  }
 },
 "nbformat": 4,
 "nbformat_minor": 5
}
